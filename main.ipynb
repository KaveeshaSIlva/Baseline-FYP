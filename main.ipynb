{
  "cells": [
    {
      "cell_type": "code",
      "execution_count": null,
      "metadata": {
        "id": "au8Bp3UNQtHI"
      },
      "outputs": [],
      "source": [
        "!pip install -r baselines/method1/requirements.txt\n",
        "!pip install boto3\n",
        "!pip install wandb"
      ]
    },
    {
      "cell_type": "code",
      "source": [
        "!wandb login"
      ],
      "metadata": {
        "id": "zsRw7ufHAouE"
      },
      "execution_count": null,
      "outputs": []
    },
    {
      "cell_type": "markdown",
      "metadata": {
        "id": "qpS_L3PYcvCh"
      },
      "source": [
        "# Run the codebase"
      ]
    },
    {
      "cell_type": "code",
      "execution_count": null,
      "metadata": {
        "id": "5961I02pqNOX"
      },
      "outputs": [],
      "source": [
        "!bash baselines/method1/run/pvqa_VG/pvqa_seeds_scratch_adv.sh"
      ]
    },
    {
      "cell_type": "code",
      "execution_count": null,
      "metadata": {
        "id": "9ngXSAB2c1ic"
      },
      "outputs": [],
      "source": [
        " !bash drive/MyDrive/PathVQA/baselines/method1/run/pvqa_VG/pvqa_seeds_scratch_qa_test.sh"
      ]
    },
    {
      "cell_type": "code",
      "source": [
        "!bash drive/MyDrive/PathVQA/baselines/method1/run/pvqa_VG/pvqa_compare_models_using_test_dataset.sh"
      ],
      "metadata": {
        "id": "TtIK-k0Quw--"
      },
      "execution_count": null,
      "outputs": []
    },
    {
      "cell_type": "code",
      "execution_count": null,
      "metadata": {
        "id": "fRZ62278W8DE"
      },
      "outputs": [],
      "source": [
        " !bash drive/MyDrive/PathVQA/baselines/method1/run/pvqa_VG/pvqa_seeds_scratch.sh"
      ]
    },
    {
      "cell_type": "code",
      "source": [
        " !bash drive/MyDrive/PathVQA/baselines/method1/run/pvqa_VG/pvqa_adveserial_prtrain.sh"
      ],
      "metadata": {
        "id": "JQ7yS7iWvxGr"
      },
      "execution_count": null,
      "outputs": []
    },
    {
      "cell_type": "code",
      "source": [
        " !bash drive/MyDrive/PathVQA/baselines/method1/run/pvqa_VG/pvqa_seeds_scratch_autoencoder_phase3.sh"
      ],
      "metadata": {
        "id": "MoIltf2LuX4I"
      },
      "execution_count": null,
      "outputs": []
    },
    {
      "cell_type": "code",
      "source": [
        " !bash drive/MyDrive/PathVQA/baselines/method1/run/pvqa_VG/pvqa_seeds_scratch_adv_auto.sh"
      ],
      "metadata": {
        "id": "fG-C6vY88egq"
      },
      "execution_count": null,
      "outputs": []
    },
    {
      "cell_type": "code",
      "source": [
        " !bash drive/MyDrive/PathVQA/baselines/method1/run/pvqa_VG/pvqa_seeds_qa_vq_va_vqa.sh"
      ],
      "metadata": {
        "id": "7I3NlcvGw0DT"
      },
      "execution_count": null,
      "outputs": []
    },
    {
      "cell_type": "code",
      "execution_count": null,
      "metadata": {
        "id": "JlCZcdV33chz"
      },
      "outputs": [],
      "source": [
        "!bash drive/MyDrive/PathVQA/baselines/method1/run/pvqa_VG/pvqa_seeds_scratch_simulate.sh"
      ]
    }
  ],
  "metadata": {
    "accelerator": "GPU",
    "colab": {
      "collapsed_sections": [],
      "name": "Copy of FYP_Baseline_Shared-main.ipynb",
      "provenance": []
    },
    "kernelspec": {
      "display_name": "Python 3",
      "name": "python3"
    },
    "language_info": {
      "name": "python"
    }
  },
  "nbformat": 4,
  "nbformat_minor": 0
}